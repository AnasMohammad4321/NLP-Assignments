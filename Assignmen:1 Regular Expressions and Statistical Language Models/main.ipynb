{
 "cells": [
  {
   "cell_type": "markdown",
   "metadata": {},
   "source": [
    "# Importing Required Libraries"
   ]
  },
  {
   "cell_type": "code",
   "execution_count": 5,
   "metadata": {},
   "outputs": [],
   "source": [
    "import nltk\n",
    "import re\n",
    "from pprint import pprint"
   ]
  },
  {
   "cell_type": "markdown",
   "metadata": {},
   "source": [
    "# Question 1"
   ]
  },
  {
   "cell_type": "code",
   "execution_count": 8,
   "metadata": {},
   "outputs": [
    {
     "name": "stdout",
     "output_type": "stream",
     "text": [
      "Regex (a):\n",
      "{The} {quick} {brown} {fox} {jumps} {over} {the} {lazy} {dog}. {piet} {poot} {pat} {pit} {put} 123 45.67 {aeio} 678.90\n",
      "\n",
      "Regex (b):\n",
      "{The} quick brown fox jumps over the lazy dog. piet poot pat pit put 123 45.67 aeio 678.90\n",
      "\n",
      "Regex (c):\n",
      "The quick brown fox jumps over the lazy dog. {piet} {poot} {pat} {pit} {put} 123 45.67 aeio 678.90\n",
      "\n",
      "Regex (d):\n",
      "The quick brown fox jumps over the lazy dog. piet poot pat pit put {123} {45.67} aeio {678.90}\n",
      "\n",
      "Regex (e):\n",
      "{}T{he }{}q{}u{}i{}c{}k{} {}b{row}{}n{} {fox}{} {jum}{}p{}s{ ov}{}e{}r{} {}t{he laz}{}y{} {dog}{}.{} {}p{}i{}e{}t{} {}p{}o{}o{}t{} {pat}{} {pit}{} {put}{} {}1{}2{}3{} {}4{}5{}.{}6{}7{} {}a{}e{}i{}o{} {}6{}7{}8{}.{}9{}0{}\n",
      "\n",
      "Regex (f):\n",
      "{The} {quick} {brown} {fox} {jumps} {over} {the} {lazy} {dog}{.} {piet} {poot} {pat} {pit} {put} {123} {45}{.}{67} {aeio} {678}{.}{90}\n"
     ]
    }
   ],
   "source": [
    "regex_a = r'[a-zA-Z]+'\n",
    "regex_b = r'[A-Z][a-z]*'\n",
    "regex_c = r'p[aeiou]{,2}t'\n",
    "regex_d = r'\\d+(\\.\\d+)?'\n",
    "regex_e = r'([^aeiou][aeiou][^aeiou])*'\n",
    "regex_f = r'\\w+|[^\\w\\s]+'\n",
    "\n",
    "test_string = \"The quick brown fox jumps over the lazy dog. piet poot pat pit put 123 45.67 aeio 678.90\"\n",
    "\n",
    "print(\"Regex (a):\")\n",
    "nltk.re_show(regex_a, test_string)\n",
    "\n",
    "print(\"\\nRegex (b):\")\n",
    "nltk.re_show(regex_b, test_string)\n",
    "\n",
    "print(\"\\nRegex (c):\")\n",
    "nltk.re_show(regex_c, test_string)\n",
    "\n",
    "print(\"\\nRegex (d):\")\n",
    "nltk.re_show(regex_d, test_string)\n",
    "\n",
    "print(\"\\nRegex (e):\")\n",
    "nltk.re_show(regex_e, test_string)\n",
    "\n",
    "print(\"\\nRegex (f):\")\n",
    "nltk.re_show(regex_f, test_string)\n"
   ]
  },
  {
   "cell_type": "markdown",
   "metadata": {},
   "source": [
    "# Question 2"
   ]
  },
  {
   "cell_type": "code",
   "execution_count": null,
   "metadata": {},
   "outputs": [],
   "source": []
  }
 ],
 "metadata": {
  "kernelspec": {
   "display_name": "base",
   "language": "python",
   "name": "python3"
  },
  "language_info": {
   "codemirror_mode": {
    "name": "ipython",
    "version": 3
   },
   "file_extension": ".py",
   "mimetype": "text/x-python",
   "name": "python",
   "nbconvert_exporter": "python",
   "pygments_lexer": "ipython3",
   "version": "3.11.5"
  }
 },
 "nbformat": 4,
 "nbformat_minor": 2
}
